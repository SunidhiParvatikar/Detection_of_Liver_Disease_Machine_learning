{
  "nbformat": 4,
  "nbformat_minor": 0,
  "metadata": {
    "colab": {
      "name": "Copy of Liverdisease.ipynb",
      "provenance": [],
      "collapsed_sections": [],
      "authorship_tag": "ABX9TyNPNE8u+MLZk+WlUmJ7SiIR",
      "include_colab_link": true
    },
    "kernelspec": {
      "name": "python3",
      "display_name": "Python 3"
    }
  },
  "cells": [
    {
      "cell_type": "markdown",
      "metadata": {
        "id": "view-in-github",
        "colab_type": "text"
      },
      "source": [
        "<a href=\"https://colab.research.google.com/github/SunidhiParvatikar/Detection_of_Liver_Disease_Machine_learning/blob/main/Copy_of_Liverdisease.ipynb\" target=\"_parent\"><img src=\"https://colab.research.google.com/assets/colab-badge.svg\" alt=\"Open In Colab\"/></a>"
      ]
    },
    {
      "cell_type": "code",
      "metadata": {
        "id": "3jHzAF7VxAvS"
      },
      "source": [
        "#importing libraries\r\n",
        "import  pandas as pd\r\n",
        "import numpy as np\r\n",
        "import seaborn  as sns\r\n",
        "import matplotlib.pyplot as plt\r\n",
        "%matplotlib inline"
      ],
      "execution_count": null,
      "outputs": []
    },
    {
      "cell_type": "code",
      "metadata": {
        "colab": {
          "base_uri": "https://localhost:8080/",
          "height": 226
        },
        "id": "-YZRMmmbyIf-",
        "outputId": "60b1b6fa-f1ce-4f5e-e5be-151adb21307a"
      },
      "source": [
        "df = pd.read_csv('liver.csv')\r\n",
        "df.head()"
      ],
      "execution_count": null,
      "outputs": [
        {
          "output_type": "execute_result",
          "data": {
            "text/html": [
              "<div>\n",
              "<style scoped>\n",
              "    .dataframe tbody tr th:only-of-type {\n",
              "        vertical-align: middle;\n",
              "    }\n",
              "\n",
              "    .dataframe tbody tr th {\n",
              "        vertical-align: top;\n",
              "    }\n",
              "\n",
              "    .dataframe thead th {\n",
              "        text-align: right;\n",
              "    }\n",
              "</style>\n",
              "<table border=\"1\" class=\"dataframe\">\n",
              "  <thead>\n",
              "    <tr style=\"text-align: right;\">\n",
              "      <th></th>\n",
              "      <th>Age</th>\n",
              "      <th>Gender</th>\n",
              "      <th>Total_Bilirubin</th>\n",
              "      <th>Direct_Bilirubin</th>\n",
              "      <th>Alkaline_Phosphotase</th>\n",
              "      <th>Alamine_Aminotransferase</th>\n",
              "      <th>Aspartate_Aminotransferase</th>\n",
              "      <th>Total_Protiens</th>\n",
              "      <th>Albumin</th>\n",
              "      <th>Albumin_and_Globulin_Ratio</th>\n",
              "      <th>Dataset</th>\n",
              "    </tr>\n",
              "  </thead>\n",
              "  <tbody>\n",
              "    <tr>\n",
              "      <th>0</th>\n",
              "      <td>65</td>\n",
              "      <td>Female</td>\n",
              "      <td>0.7</td>\n",
              "      <td>0.1</td>\n",
              "      <td>187</td>\n",
              "      <td>16</td>\n",
              "      <td>18</td>\n",
              "      <td>6.8</td>\n",
              "      <td>3.3</td>\n",
              "      <td>0.90</td>\n",
              "      <td>1</td>\n",
              "    </tr>\n",
              "    <tr>\n",
              "      <th>1</th>\n",
              "      <td>62</td>\n",
              "      <td>Male</td>\n",
              "      <td>10.9</td>\n",
              "      <td>5.5</td>\n",
              "      <td>699</td>\n",
              "      <td>64</td>\n",
              "      <td>100</td>\n",
              "      <td>7.5</td>\n",
              "      <td>3.2</td>\n",
              "      <td>0.74</td>\n",
              "      <td>1</td>\n",
              "    </tr>\n",
              "    <tr>\n",
              "      <th>2</th>\n",
              "      <td>62</td>\n",
              "      <td>Male</td>\n",
              "      <td>7.3</td>\n",
              "      <td>4.1</td>\n",
              "      <td>490</td>\n",
              "      <td>60</td>\n",
              "      <td>68</td>\n",
              "      <td>7.0</td>\n",
              "      <td>3.3</td>\n",
              "      <td>0.89</td>\n",
              "      <td>1</td>\n",
              "    </tr>\n",
              "    <tr>\n",
              "      <th>3</th>\n",
              "      <td>58</td>\n",
              "      <td>Male</td>\n",
              "      <td>1.0</td>\n",
              "      <td>0.4</td>\n",
              "      <td>182</td>\n",
              "      <td>14</td>\n",
              "      <td>20</td>\n",
              "      <td>6.8</td>\n",
              "      <td>3.4</td>\n",
              "      <td>1.00</td>\n",
              "      <td>1</td>\n",
              "    </tr>\n",
              "    <tr>\n",
              "      <th>4</th>\n",
              "      <td>72</td>\n",
              "      <td>Male</td>\n",
              "      <td>3.9</td>\n",
              "      <td>2.0</td>\n",
              "      <td>195</td>\n",
              "      <td>27</td>\n",
              "      <td>59</td>\n",
              "      <td>7.3</td>\n",
              "      <td>2.4</td>\n",
              "      <td>0.40</td>\n",
              "      <td>1</td>\n",
              "    </tr>\n",
              "  </tbody>\n",
              "</table>\n",
              "</div>"
            ],
            "text/plain": [
              "   Age  Gender  Total_Bilirubin  ...  Albumin  Albumin_and_Globulin_Ratio  Dataset\n",
              "0   65  Female              0.7  ...      3.3                        0.90        1\n",
              "1   62    Male             10.9  ...      3.2                        0.74        1\n",
              "2   62    Male              7.3  ...      3.3                        0.89        1\n",
              "3   58    Male              1.0  ...      3.4                        1.00        1\n",
              "4   72    Male              3.9  ...      2.4                        0.40        1\n",
              "\n",
              "[5 rows x 11 columns]"
            ]
          },
          "metadata": {
            "tags": []
          },
          "execution_count": 16
        }
      ]
    },
    {
      "cell_type": "code",
      "metadata": {
        "colab": {
          "base_uri": "https://localhost:8080/"
        },
        "id": "OqbAKIR01VlE",
        "outputId": "5310d765-6b2e-4739-b250-94d25f5b6cc3"
      },
      "source": [
        "#Reading datasets\r\n",
        "x = df.drop('Dataset',axis = 1)\r\n",
        "y = df['Dataset']\r\n",
        "\r\n",
        "print(\"Total no of sample:\",df.shape[0],'\\nNo. of features:',df.shape[1])"
      ],
      "execution_count": null,
      "outputs": [
        {
          "output_type": "stream",
          "text": [
            "Total no of sample: 583 \n",
            "No. of features: 11\n"
          ],
          "name": "stdout"
        }
      ]
    },
    {
      "cell_type": "code",
      "metadata": {
        "colab": {
          "base_uri": "https://localhost:8080/",
          "height": 885
        },
        "id": "cBMBatQV34gV",
        "outputId": "878a2934-0fff-4685-ae9d-8e07c2ab23e0"
      },
      "source": [
        "#Remove duplicates\r\n",
        "duplicates = df[df.duplicated(keep = False)]\r\n",
        "duplicates"
      ],
      "execution_count": null,
      "outputs": [
        {
          "output_type": "execute_result",
          "data": {
            "text/html": [
              "<div>\n",
              "<style scoped>\n",
              "    .dataframe tbody tr th:only-of-type {\n",
              "        vertical-align: middle;\n",
              "    }\n",
              "\n",
              "    .dataframe tbody tr th {\n",
              "        vertical-align: top;\n",
              "    }\n",
              "\n",
              "    .dataframe thead th {\n",
              "        text-align: right;\n",
              "    }\n",
              "</style>\n",
              "<table border=\"1\" class=\"dataframe\">\n",
              "  <thead>\n",
              "    <tr style=\"text-align: right;\">\n",
              "      <th></th>\n",
              "      <th>Age</th>\n",
              "      <th>Gender</th>\n",
              "      <th>Total_Bilirubin</th>\n",
              "      <th>Direct_Bilirubin</th>\n",
              "      <th>Alkaline_Phosphotase</th>\n",
              "      <th>Alamine_Aminotransferase</th>\n",
              "      <th>Aspartate_Aminotransferase</th>\n",
              "      <th>Total_Protiens</th>\n",
              "      <th>Albumin</th>\n",
              "      <th>Albumin_and_Globulin_Ratio</th>\n",
              "      <th>Dataset</th>\n",
              "    </tr>\n",
              "  </thead>\n",
              "  <tbody>\n",
              "    <tr>\n",
              "      <th>18</th>\n",
              "      <td>40</td>\n",
              "      <td>Female</td>\n",
              "      <td>0.9</td>\n",
              "      <td>0.3</td>\n",
              "      <td>293</td>\n",
              "      <td>232</td>\n",
              "      <td>245</td>\n",
              "      <td>6.8</td>\n",
              "      <td>3.1</td>\n",
              "      <td>0.80</td>\n",
              "      <td>1</td>\n",
              "    </tr>\n",
              "    <tr>\n",
              "      <th>19</th>\n",
              "      <td>40</td>\n",
              "      <td>Female</td>\n",
              "      <td>0.9</td>\n",
              "      <td>0.3</td>\n",
              "      <td>293</td>\n",
              "      <td>232</td>\n",
              "      <td>245</td>\n",
              "      <td>6.8</td>\n",
              "      <td>3.1</td>\n",
              "      <td>0.80</td>\n",
              "      <td>1</td>\n",
              "    </tr>\n",
              "    <tr>\n",
              "      <th>25</th>\n",
              "      <td>34</td>\n",
              "      <td>Male</td>\n",
              "      <td>4.1</td>\n",
              "      <td>2.0</td>\n",
              "      <td>289</td>\n",
              "      <td>875</td>\n",
              "      <td>731</td>\n",
              "      <td>5.0</td>\n",
              "      <td>2.7</td>\n",
              "      <td>1.10</td>\n",
              "      <td>1</td>\n",
              "    </tr>\n",
              "    <tr>\n",
              "      <th>26</th>\n",
              "      <td>34</td>\n",
              "      <td>Male</td>\n",
              "      <td>4.1</td>\n",
              "      <td>2.0</td>\n",
              "      <td>289</td>\n",
              "      <td>875</td>\n",
              "      <td>731</td>\n",
              "      <td>5.0</td>\n",
              "      <td>2.7</td>\n",
              "      <td>1.10</td>\n",
              "      <td>1</td>\n",
              "    </tr>\n",
              "    <tr>\n",
              "      <th>33</th>\n",
              "      <td>38</td>\n",
              "      <td>Female</td>\n",
              "      <td>2.6</td>\n",
              "      <td>1.2</td>\n",
              "      <td>410</td>\n",
              "      <td>59</td>\n",
              "      <td>57</td>\n",
              "      <td>5.6</td>\n",
              "      <td>3.0</td>\n",
              "      <td>0.80</td>\n",
              "      <td>2</td>\n",
              "    </tr>\n",
              "    <tr>\n",
              "      <th>34</th>\n",
              "      <td>38</td>\n",
              "      <td>Female</td>\n",
              "      <td>2.6</td>\n",
              "      <td>1.2</td>\n",
              "      <td>410</td>\n",
              "      <td>59</td>\n",
              "      <td>57</td>\n",
              "      <td>5.6</td>\n",
              "      <td>3.0</td>\n",
              "      <td>0.80</td>\n",
              "      <td>2</td>\n",
              "    </tr>\n",
              "    <tr>\n",
              "      <th>54</th>\n",
              "      <td>42</td>\n",
              "      <td>Male</td>\n",
              "      <td>8.9</td>\n",
              "      <td>4.5</td>\n",
              "      <td>272</td>\n",
              "      <td>31</td>\n",
              "      <td>61</td>\n",
              "      <td>5.8</td>\n",
              "      <td>2.0</td>\n",
              "      <td>0.50</td>\n",
              "      <td>1</td>\n",
              "    </tr>\n",
              "    <tr>\n",
              "      <th>55</th>\n",
              "      <td>42</td>\n",
              "      <td>Male</td>\n",
              "      <td>8.9</td>\n",
              "      <td>4.5</td>\n",
              "      <td>272</td>\n",
              "      <td>31</td>\n",
              "      <td>61</td>\n",
              "      <td>5.8</td>\n",
              "      <td>2.0</td>\n",
              "      <td>0.50</td>\n",
              "      <td>1</td>\n",
              "    </tr>\n",
              "    <tr>\n",
              "      <th>61</th>\n",
              "      <td>58</td>\n",
              "      <td>Male</td>\n",
              "      <td>1.0</td>\n",
              "      <td>0.5</td>\n",
              "      <td>158</td>\n",
              "      <td>37</td>\n",
              "      <td>43</td>\n",
              "      <td>7.2</td>\n",
              "      <td>3.6</td>\n",
              "      <td>1.00</td>\n",
              "      <td>1</td>\n",
              "    </tr>\n",
              "    <tr>\n",
              "      <th>62</th>\n",
              "      <td>58</td>\n",
              "      <td>Male</td>\n",
              "      <td>1.0</td>\n",
              "      <td>0.5</td>\n",
              "      <td>158</td>\n",
              "      <td>37</td>\n",
              "      <td>43</td>\n",
              "      <td>7.2</td>\n",
              "      <td>3.6</td>\n",
              "      <td>1.00</td>\n",
              "      <td>1</td>\n",
              "    </tr>\n",
              "    <tr>\n",
              "      <th>105</th>\n",
              "      <td>36</td>\n",
              "      <td>Male</td>\n",
              "      <td>5.3</td>\n",
              "      <td>2.3</td>\n",
              "      <td>145</td>\n",
              "      <td>32</td>\n",
              "      <td>92</td>\n",
              "      <td>5.1</td>\n",
              "      <td>2.6</td>\n",
              "      <td>1.00</td>\n",
              "      <td>2</td>\n",
              "    </tr>\n",
              "    <tr>\n",
              "      <th>106</th>\n",
              "      <td>36</td>\n",
              "      <td>Male</td>\n",
              "      <td>5.3</td>\n",
              "      <td>2.3</td>\n",
              "      <td>145</td>\n",
              "      <td>32</td>\n",
              "      <td>92</td>\n",
              "      <td>5.1</td>\n",
              "      <td>2.6</td>\n",
              "      <td>1.00</td>\n",
              "      <td>2</td>\n",
              "    </tr>\n",
              "    <tr>\n",
              "      <th>107</th>\n",
              "      <td>36</td>\n",
              "      <td>Male</td>\n",
              "      <td>0.8</td>\n",
              "      <td>0.2</td>\n",
              "      <td>158</td>\n",
              "      <td>29</td>\n",
              "      <td>39</td>\n",
              "      <td>6.0</td>\n",
              "      <td>2.2</td>\n",
              "      <td>0.50</td>\n",
              "      <td>2</td>\n",
              "    </tr>\n",
              "    <tr>\n",
              "      <th>108</th>\n",
              "      <td>36</td>\n",
              "      <td>Male</td>\n",
              "      <td>0.8</td>\n",
              "      <td>0.2</td>\n",
              "      <td>158</td>\n",
              "      <td>29</td>\n",
              "      <td>39</td>\n",
              "      <td>6.0</td>\n",
              "      <td>2.2</td>\n",
              "      <td>0.50</td>\n",
              "      <td>2</td>\n",
              "    </tr>\n",
              "    <tr>\n",
              "      <th>137</th>\n",
              "      <td>18</td>\n",
              "      <td>Male</td>\n",
              "      <td>0.8</td>\n",
              "      <td>0.2</td>\n",
              "      <td>282</td>\n",
              "      <td>72</td>\n",
              "      <td>140</td>\n",
              "      <td>5.5</td>\n",
              "      <td>2.5</td>\n",
              "      <td>0.80</td>\n",
              "      <td>1</td>\n",
              "    </tr>\n",
              "    <tr>\n",
              "      <th>138</th>\n",
              "      <td>18</td>\n",
              "      <td>Male</td>\n",
              "      <td>0.8</td>\n",
              "      <td>0.2</td>\n",
              "      <td>282</td>\n",
              "      <td>72</td>\n",
              "      <td>140</td>\n",
              "      <td>5.5</td>\n",
              "      <td>2.5</td>\n",
              "      <td>0.80</td>\n",
              "      <td>1</td>\n",
              "    </tr>\n",
              "    <tr>\n",
              "      <th>142</th>\n",
              "      <td>30</td>\n",
              "      <td>Male</td>\n",
              "      <td>1.6</td>\n",
              "      <td>0.4</td>\n",
              "      <td>332</td>\n",
              "      <td>84</td>\n",
              "      <td>139</td>\n",
              "      <td>5.6</td>\n",
              "      <td>2.7</td>\n",
              "      <td>0.90</td>\n",
              "      <td>1</td>\n",
              "    </tr>\n",
              "    <tr>\n",
              "      <th>143</th>\n",
              "      <td>30</td>\n",
              "      <td>Male</td>\n",
              "      <td>1.6</td>\n",
              "      <td>0.4</td>\n",
              "      <td>332</td>\n",
              "      <td>84</td>\n",
              "      <td>139</td>\n",
              "      <td>5.6</td>\n",
              "      <td>2.7</td>\n",
              "      <td>0.90</td>\n",
              "      <td>1</td>\n",
              "    </tr>\n",
              "    <tr>\n",
              "      <th>157</th>\n",
              "      <td>72</td>\n",
              "      <td>Male</td>\n",
              "      <td>0.7</td>\n",
              "      <td>0.1</td>\n",
              "      <td>196</td>\n",
              "      <td>20</td>\n",
              "      <td>35</td>\n",
              "      <td>5.8</td>\n",
              "      <td>2.0</td>\n",
              "      <td>0.50</td>\n",
              "      <td>1</td>\n",
              "    </tr>\n",
              "    <tr>\n",
              "      <th>158</th>\n",
              "      <td>72</td>\n",
              "      <td>Male</td>\n",
              "      <td>0.7</td>\n",
              "      <td>0.1</td>\n",
              "      <td>196</td>\n",
              "      <td>20</td>\n",
              "      <td>35</td>\n",
              "      <td>5.8</td>\n",
              "      <td>2.0</td>\n",
              "      <td>0.50</td>\n",
              "      <td>1</td>\n",
              "    </tr>\n",
              "    <tr>\n",
              "      <th>163</th>\n",
              "      <td>39</td>\n",
              "      <td>Male</td>\n",
              "      <td>1.9</td>\n",
              "      <td>0.9</td>\n",
              "      <td>180</td>\n",
              "      <td>42</td>\n",
              "      <td>62</td>\n",
              "      <td>7.4</td>\n",
              "      <td>4.3</td>\n",
              "      <td>1.38</td>\n",
              "      <td>1</td>\n",
              "    </tr>\n",
              "    <tr>\n",
              "      <th>164</th>\n",
              "      <td>39</td>\n",
              "      <td>Male</td>\n",
              "      <td>1.9</td>\n",
              "      <td>0.9</td>\n",
              "      <td>180</td>\n",
              "      <td>42</td>\n",
              "      <td>62</td>\n",
              "      <td>7.4</td>\n",
              "      <td>4.3</td>\n",
              "      <td>1.38</td>\n",
              "      <td>1</td>\n",
              "    </tr>\n",
              "    <tr>\n",
              "      <th>173</th>\n",
              "      <td>31</td>\n",
              "      <td>Male</td>\n",
              "      <td>0.6</td>\n",
              "      <td>0.1</td>\n",
              "      <td>175</td>\n",
              "      <td>48</td>\n",
              "      <td>34</td>\n",
              "      <td>6.0</td>\n",
              "      <td>3.7</td>\n",
              "      <td>1.60</td>\n",
              "      <td>1</td>\n",
              "    </tr>\n",
              "    <tr>\n",
              "      <th>174</th>\n",
              "      <td>31</td>\n",
              "      <td>Male</td>\n",
              "      <td>0.6</td>\n",
              "      <td>0.1</td>\n",
              "      <td>175</td>\n",
              "      <td>48</td>\n",
              "      <td>34</td>\n",
              "      <td>6.0</td>\n",
              "      <td>3.7</td>\n",
              "      <td>1.60</td>\n",
              "      <td>1</td>\n",
              "    </tr>\n",
              "    <tr>\n",
              "      <th>200</th>\n",
              "      <td>49</td>\n",
              "      <td>Male</td>\n",
              "      <td>0.6</td>\n",
              "      <td>0.1</td>\n",
              "      <td>218</td>\n",
              "      <td>50</td>\n",
              "      <td>53</td>\n",
              "      <td>5.0</td>\n",
              "      <td>2.4</td>\n",
              "      <td>0.90</td>\n",
              "      <td>1</td>\n",
              "    </tr>\n",
              "    <tr>\n",
              "      <th>201</th>\n",
              "      <td>49</td>\n",
              "      <td>Male</td>\n",
              "      <td>0.6</td>\n",
              "      <td>0.1</td>\n",
              "      <td>218</td>\n",
              "      <td>50</td>\n",
              "      <td>53</td>\n",
              "      <td>5.0</td>\n",
              "      <td>2.4</td>\n",
              "      <td>0.90</td>\n",
              "      <td>1</td>\n",
              "    </tr>\n",
              "  </tbody>\n",
              "</table>\n",
              "</div>"
            ],
            "text/plain": [
              "     Age  Gender  Total_Bilirubin  ...  Albumin  Albumin_and_Globulin_Ratio  Dataset\n",
              "18    40  Female              0.9  ...      3.1                        0.80        1\n",
              "19    40  Female              0.9  ...      3.1                        0.80        1\n",
              "25    34    Male              4.1  ...      2.7                        1.10        1\n",
              "26    34    Male              4.1  ...      2.7                        1.10        1\n",
              "33    38  Female              2.6  ...      3.0                        0.80        2\n",
              "34    38  Female              2.6  ...      3.0                        0.80        2\n",
              "54    42    Male              8.9  ...      2.0                        0.50        1\n",
              "55    42    Male              8.9  ...      2.0                        0.50        1\n",
              "61    58    Male              1.0  ...      3.6                        1.00        1\n",
              "62    58    Male              1.0  ...      3.6                        1.00        1\n",
              "105   36    Male              5.3  ...      2.6                        1.00        2\n",
              "106   36    Male              5.3  ...      2.6                        1.00        2\n",
              "107   36    Male              0.8  ...      2.2                        0.50        2\n",
              "108   36    Male              0.8  ...      2.2                        0.50        2\n",
              "137   18    Male              0.8  ...      2.5                        0.80        1\n",
              "138   18    Male              0.8  ...      2.5                        0.80        1\n",
              "142   30    Male              1.6  ...      2.7                        0.90        1\n",
              "143   30    Male              1.6  ...      2.7                        0.90        1\n",
              "157   72    Male              0.7  ...      2.0                        0.50        1\n",
              "158   72    Male              0.7  ...      2.0                        0.50        1\n",
              "163   39    Male              1.9  ...      4.3                        1.38        1\n",
              "164   39    Male              1.9  ...      4.3                        1.38        1\n",
              "173   31    Male              0.6  ...      3.7                        1.60        1\n",
              "174   31    Male              0.6  ...      3.7                        1.60        1\n",
              "200   49    Male              0.6  ...      2.4                        0.90        1\n",
              "201   49    Male              0.6  ...      2.4                        0.90        1\n",
              "\n",
              "[26 rows x 11 columns]"
            ]
          },
          "metadata": {
            "tags": []
          },
          "execution_count": 20
        }
      ]
    },
    {
      "cell_type": "code",
      "metadata": {
        "colab": {
          "base_uri": "https://localhost:8080/"
        },
        "id": "YG_62q6Y765E",
        "outputId": "981ef4b9-c5b7-4530-b473-06310538606a"
      },
      "source": [
        "print('No of duplicate values: ',duplicates.shape[0],'\\nSize of data: ',df.shape)"
      ],
      "execution_count": null,
      "outputs": [
        {
          "output_type": "stream",
          "text": [
            "No of duplicate values:  26 \n",
            "Size of data:  (583, 11)\n"
          ],
          "name": "stdout"
        }
      ]
    },
    {
      "cell_type": "code",
      "metadata": {
        "colab": {
          "base_uri": "https://localhost:8080/"
        },
        "id": "Uwuk7xHm8bwd",
        "outputId": "13e55221-16ff-42f0-ba55-082c5a24874c"
      },
      "source": [
        "df.isnull().sum()"
      ],
      "execution_count": null,
      "outputs": [
        {
          "output_type": "execute_result",
          "data": {
            "text/plain": [
              "Age                           0\n",
              "Gender                        0\n",
              "Total_Bilirubin               0\n",
              "Direct_Bilirubin              0\n",
              "Alkaline_Phosphotase          0\n",
              "Alamine_Aminotransferase      0\n",
              "Aspartate_Aminotransferase    0\n",
              "Total_Protiens                0\n",
              "Albumin                       0\n",
              "Albumin_and_Globulin_Ratio    4\n",
              "Dataset                       0\n",
              "dtype: int64"
            ]
          },
          "metadata": {
            "tags": []
          },
          "execution_count": 26
        }
      ]
    },
    {
      "cell_type": "code",
      "metadata": {
        "colab": {
          "base_uri": "https://localhost:8080/"
        },
        "id": "BbqpnQfC8lg4",
        "outputId": "4b725965-dcf0-4f29-fd03-010bd9ee110a"
      },
      "source": [
        "df = df.dropna()\r\n",
        "df.isnull().sum()"
      ],
      "execution_count": null,
      "outputs": [
        {
          "output_type": "execute_result",
          "data": {
            "text/plain": [
              "Age                           0\n",
              "Gender                        0\n",
              "Total_Bilirubin               0\n",
              "Direct_Bilirubin              0\n",
              "Alkaline_Phosphotase          0\n",
              "Alamine_Aminotransferase      0\n",
              "Aspartate_Aminotransferase    0\n",
              "Total_Protiens                0\n",
              "Albumin                       0\n",
              "Albumin_and_Globulin_Ratio    0\n",
              "Dataset                       0\n",
              "dtype: int64"
            ]
          },
          "metadata": {
            "tags": []
          },
          "execution_count": 28
        }
      ]
    },
    {
      "cell_type": "code",
      "metadata": {
        "colab": {
          "base_uri": "https://localhost:8080/"
        },
        "id": "zRi03KVa805C",
        "outputId": "355d2bc2-bcfa-40b0-e472-ebb40f177842"
      },
      "source": [
        "df.shape"
      ],
      "execution_count": null,
      "outputs": [
        {
          "output_type": "execute_result",
          "data": {
            "text/plain": [
              "(579, 11)"
            ]
          },
          "metadata": {
            "tags": []
          },
          "execution_count": 29
        }
      ]
    },
    {
      "cell_type": "code",
      "metadata": {
        "id": "H9lP2EdT85DJ"
      },
      "source": [
        "#Scaling features \r\n",
        "from sklearn.preprocessing import LabelEncoder\r\n",
        "\r\n",
        "le = LabelEncoder()\r\n",
        "#1: Liver problem , 0: No Problem\r\n",
        "df['Dataset'] = le.fit_transform(~df['Dataset'])\r\n",
        "df['Dataset'].unique()\r\n",
        "\r\n",
        "x = df.drop('Dataset',axis=1)\r\n",
        "y = df['Dataset']\r\n"
      ],
      "execution_count": null,
      "outputs": []
    },
    {
      "cell_type": "code",
      "metadata": {
        "colab": {
          "base_uri": "https://localhost:8080/",
          "height": 607
        },
        "id": "iunVri4O93bY",
        "outputId": "8d8ca34a-0c70-433b-f6c0-0e23ec0484cc"
      },
      "source": [
        "#Visualization\r\n",
        "x.hist(figsize=(15,10))\r\n",
        "plt.ylabel('Frequency')\r\n",
        "plt.show()"
      ],
      "execution_count": null,
      "outputs": [
        {
          "output_type": "display_data",
          "data": {
            "image/png": "[encoded data removed]",
            "text/plain": [
              "<Figure size 1080x720 with 9 Axes>"
            ]
          },
          "metadata": {
            "tags": [],
            "needs_background": "light"
          }
        }
      ]
    },
    {
      "cell_type": "code",
      "metadata": {
        "colab": {
          "base_uri": "https://localhost:8080/",
          "height": 279
        },
        "id": "1841reoK_kyn",
        "outputId": "2dccd47c-9565-4834-d0b9-9e76e10fcef6"
      },
      "source": [
        "sns.countplot(x = 'Gender',hue='Dataset' , data = df, palette='colorblind', edgecolor=sns.color_palette('dark',n_colors=1) )\r\n",
        "plt.show()"
      ],
      "execution_count": null,
      "outputs": [
        {
          "output_type": "display_data",
          "data": {
            "image/png": "[encoded data removed]",
            "text/plain": [
              "<Figure size 432x288 with 1 Axes>"
            ]
          },
          "metadata": {
            "tags": [],
            "needs_background": "light"
          }
        }
      ]
    },
    {
      "cell_type": "code",
      "metadata": {
        "colab": {
          "base_uri": "https://localhost:8080/",
          "height": 295
        },
        "id": "wfhGFOQCBBlv",
        "outputId": "9b75a2e1-8834-4c01-c147-dba54de4b95f"
      },
      "source": [
        "plt.hist(y,label='0:No_Liver_Disease\\n1:Liver_Disease ')\r\n",
        "plt.xlabel(\"Liver Disease or no Liver disease\")\r\n",
        "plt.ylabel('Frequency')\r\n",
        "plt.title(\"Frequency of Liver Disease and no Liver disease\")\r\n",
        "plt.legend()\r\n",
        "plt.show()"
      ],
      "execution_count": null,
      "outputs": [
        {
          "output_type": "display_data",
          "data": {
            "image/png": "[encoded data removed]",
            "text/plain": [
              "<Figure size 432x288 with 1 Axes>"
            ]
          },
          "metadata": {
            "tags": [],
            "needs_background": "light"
          }
        }
      ]
    },
    {
      "cell_type": "code",
      "metadata": {
        "id": "dLSexSriFEHH"
      },
      "source": [
        "df['Gender'] = le.fit_transform(df['Gender'])\r\n",
        "\r\n",
        "x = df.drop('Dataset',axis=1)\r\n",
        "y=df['Dataset']\r\n",
        "from sklearn.preprocessing import MinMaxScaler\r\n",
        "scaler = MinMaxScaler()\r\n",
        "x= scaler.fit_transform(x)"
      ],
      "execution_count": null,
      "outputs": []
    },
    {
      "cell_type": "code",
      "metadata": {
        "colab": {
          "base_uri": "https://localhost:8080/",
          "height": 331
        },
        "id": "fPyUWS4eF8pd",
        "outputId": "13205a51-1525-4cfe-9b56-6bf84314c06a"
      },
      "source": [
        "from sklearn.linear_model import LogisticRegression\r\n",
        "from sklearn import metrics\r\n",
        "from sklearn.model_selection import train_test_split\r\n",
        "\r\n",
        "X = df.iloc[:,:-1].values\r\n",
        "y = df.iloc[:,-1].values\r\n",
        "\r\n",
        "X_train, X_test, y_train, y_test = train_test_split(X,y,test_size=0.20,random_state=1) \r\n",
        "reg = LogisticRegression(solver='newton-cg')\r\n",
        "reg.fit(X_train,y_train)\r\n",
        "y_pred=reg.predict(X_test)\r\n",
        "accuracy = metrics.accuracy_score(y_test,y_pred)\r\n",
        "\r\n",
        "cnf_matrix = metrics.confusion_matrix(y_test,y_pred)\r\n",
        "sns.heatmap(cnf_matrix,annot=True,cbar=True)\r\n",
        "plt.ylabel('True Label')\r\n",
        "plt.xlabel('Predicated Label')\r\n",
        "plt.title(\"Confusion Matrix\")\r\n",
        "\r\n",
        "print(\"Accuracy: \",accuracy)\r\n",
        "print(\"Precision: \",metrics.precision_score(y_test,y_pred))\r\n",
        "\r\n"
      ],
      "execution_count": null,
      "outputs": [
        {
          "output_type": "stream",
          "text": [
            "Accuracy:  0.7586206896551724\n",
            "Precision:  0.875\n"
          ],
          "name": "stdout"
        },
        {
          "output_type": "display_data",
          "data": {
            "image/png": "[encoded data removed]",
            "text/plain": [
              "<Figure size 432x288 with 2 Axes>"
            ]
          },
          "metadata": {
            "tags": [],
            "needs_background": "light"
          }
        }
      ]
    }
  ]
}